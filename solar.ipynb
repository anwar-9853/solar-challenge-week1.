{
 "cells": [
  {
   "cell_type": "code",
   "execution_count": null,
   "id": "92f25ab2",
   "metadata": {},
   "outputs": [],
   "source": [
    "import pandas as pd"
   ]
  },
  {
   "cell_type": "code",
   "execution_count": null,
   "id": "e7c3d174",
   "metadata": {},
   "outputs": [],
   "source": [
    "benin = pd.read_csv('benin-malanville.csv')\n",
    "sierallone = pd.read_csv(\"sierraleone-bumbuna.csv\")\n",
    "togo = pd.read_csv(\"togo-dapaong_qc.csv\")"
   ]
  }
 ],
 "metadata": {
  "kernelspec": {
   "display_name": "Python 3",
   "language": "python",
   "name": "python3"
  },
  "language_info": {
   "name": "python",
   "version": "3.11.9"
  }
 },
 "nbformat": 4,
 "nbformat_minor": 5
}
